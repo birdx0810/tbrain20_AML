{
 "cells": [
  {
   "cell_type": "code",
   "execution_count": 1,
   "metadata": {},
   "outputs": [
    {
     "name": "stderr",
     "output_type": "stream",
     "text": [
      "/home/bird/Documents/Code/tbrain20_AML/venv/lib/python3.6/site-packages/tensorflow/python/framework/dtypes.py:526: FutureWarning: Passing (type, 1) or '1type' as a synonym of type is deprecated; in a future version of numpy, it will be understood as (type, (1,)) / '(1,)type'.\n",
      "  _np_qint8 = np.dtype([(\"qint8\", np.int8, 1)])\n",
      "/home/bird/Documents/Code/tbrain20_AML/venv/lib/python3.6/site-packages/tensorflow/python/framework/dtypes.py:527: FutureWarning: Passing (type, 1) or '1type' as a synonym of type is deprecated; in a future version of numpy, it will be understood as (type, (1,)) / '(1,)type'.\n",
      "  _np_quint8 = np.dtype([(\"quint8\", np.uint8, 1)])\n",
      "/home/bird/Documents/Code/tbrain20_AML/venv/lib/python3.6/site-packages/tensorflow/python/framework/dtypes.py:528: FutureWarning: Passing (type, 1) or '1type' as a synonym of type is deprecated; in a future version of numpy, it will be understood as (type, (1,)) / '(1,)type'.\n",
      "  _np_qint16 = np.dtype([(\"qint16\", np.int16, 1)])\n",
      "/home/bird/Documents/Code/tbrain20_AML/venv/lib/python3.6/site-packages/tensorflow/python/framework/dtypes.py:529: FutureWarning: Passing (type, 1) or '1type' as a synonym of type is deprecated; in a future version of numpy, it will be understood as (type, (1,)) / '(1,)type'.\n",
      "  _np_quint16 = np.dtype([(\"quint16\", np.uint16, 1)])\n",
      "/home/bird/Documents/Code/tbrain20_AML/venv/lib/python3.6/site-packages/tensorflow/python/framework/dtypes.py:530: FutureWarning: Passing (type, 1) or '1type' as a synonym of type is deprecated; in a future version of numpy, it will be understood as (type, (1,)) / '(1,)type'.\n",
      "  _np_qint32 = np.dtype([(\"qint32\", np.int32, 1)])\n",
      "/home/bird/Documents/Code/tbrain20_AML/venv/lib/python3.6/site-packages/tensorflow/python/framework/dtypes.py:535: FutureWarning: Passing (type, 1) or '1type' as a synonym of type is deprecated; in a future version of numpy, it will be understood as (type, (1,)) / '(1,)type'.\n",
      "  np_resource = np.dtype([(\"resource\", np.ubyte, 1)])\n",
      "/home/bird/Documents/Code/tbrain20_AML/venv/lib/python3.6/site-packages/ipykernel_launcher.py:16: FutureWarning: Passing a negative integer is deprecated in version 1.0 and will not be supported in future version. Instead, use None to not limit the column width.\n",
      "  app.launch_new_instance()\n"
     ]
    }
   ],
   "source": [
    "import ast\n",
    "import os\n",
    "import re\n",
    "import unicodedata\n",
    "\n",
    "import matplotlib.pyplot as plt\n",
    "import numpy as np\n",
    "import pandas as pd\n",
    "import seaborn as sns\n",
    "\n",
    "from ckiptagger import (\n",
    "    data_utils, construct_dictionary, \n",
    "    WS, POS, NER\n",
    ")\n",
    "\n",
    "pd.set_option('display.max_colwidth', -1)\n",
    "\n",
    "%matplotlib inline"
   ]
  },
  {
   "cell_type": "code",
   "execution_count": 2,
   "metadata": {},
   "outputs": [
    {
     "data": {
      "text/html": [
       "<div>\n",
       "<style scoped>\n",
       "    .dataframe tbody tr th:only-of-type {\n",
       "        vertical-align: middle;\n",
       "    }\n",
       "\n",
       "    .dataframe tbody tr th {\n",
       "        vertical-align: top;\n",
       "    }\n",
       "\n",
       "    .dataframe thead th {\n",
       "        text-align: right;\n",
       "    }\n",
       "</style>\n",
       "<table border=\"1\" class=\"dataframe\">\n",
       "  <thead>\n",
       "    <tr style=\"text-align: right;\">\n",
       "      <th></th>\n",
       "      <th>news_ID</th>\n",
       "      <th>hyperlink</th>\n",
       "      <th>content</th>\n",
       "      <th>name</th>\n",
       "    </tr>\n",
       "  </thead>\n",
       "  <tbody>\n",
       "    <tr>\n",
       "      <th>0</th>\n",
       "      <td>1</td>\n",
       "      <td>https://news.cnyes.com/news/id/4352432</td>\n",
       "      <td>0理財基金量化交易追求絕對報酬有效對抗牛熊市鉅亨網記者鄭心芸2019/07/05 22:35facebook commentFONT SIZEICON PRINT78981DD6-B6FA-435C-B969-0D6ABD01805C0「時間序列與量化交易研討會」邀集專家學者進行量化交易、智能投資等相關議題研討。(圖:鄭心芸攝)相關個股元大期6023近年來投資市場波動越來越明顯 ### 省略內文 ### 都有非常巨大的助益。</td>\n",
       "      <td>[]</td>\n",
       "    </tr>\n",
       "    <tr>\n",
       "      <th>1</th>\n",
       "      <td>2</td>\n",
       "      <td>https://udn.com/news/story/120775/4112519</td>\n",
       "      <td>10月13日晚間發生Uber Eats黃姓外送人員職災死亡案件 ### 省略內文 ### 北市政府今日下午也跨局處召開「外送人員保障專案會議」。圖／台北市勞動局提供</td>\n",
       "      <td>[]</td>\n",
       "    </tr>\n",
       "    <tr>\n",
       "      <th>2</th>\n",
       "      <td>3</td>\n",
       "      <td>https://www.mirrormedia.mg/story/20191008soc011/</td>\n",
       "      <td>2019.10.08 01:53【法拍有詭4】飯店遭管委會斷水斷電員工怒吼：生計何去何從？文｜李育材攝影｜李育材全文朗讀00:00 / 00:00君鴻飯店快速遭法拍 ### 省略內文 ### 亦即本次拍賣事件均屬合法。更新時間｜2019.10.10 09:14</td>\n",
       "      <td>[]</td>\n",
       "    </tr>\n",
       "    <tr>\n",
       "      <th>3</th>\n",
       "      <td>4</td>\n",
       "      <td>https://www.chinatimes.com/realtimenews/20190917000619-260106</td>\n",
       "      <td>58歲林姓男子昨凌晨與朋友聚餐結束後 ### 省略內文 ### 而地點就距離林家僅30公尺。 (中國時報)</td>\n",
       "      <td>[]</td>\n",
       "    </tr>\n",
       "    <tr>\n",
       "      <th>4</th>\n",
       "      <td>5</td>\n",
       "      <td>http://domestic.judicial.gov.tw/abbs/wkw/WHD9HN03.jsp?crtid=PTD&amp;filenm=ECE5DAECAF563DA171E34B03FC5185742FC90F879191D5DF</td>\n",
       "      <td>例稿名稱：臺灣屏東地方法院公示催告公告發文日期：中華民國108年9月20日發文字號：屏院進家親108年度司家催字第58號附件：主旨：公告本院108年度司家催字第58號公示催告事件裁定。依據：家事事件法第137條、第138條、第139條準用第130條第3項至第5項、臺灣地區及大陸地區人民關係條例第68條第1項、第3項、退除役官兵死亡無人繼承遺產管理辦法第6條。公告事項：一、本案遺產管理人為國軍退除役官兵輔導委員會屏東榮譽國民之家（住址：屏東縣內埔鄉○○路000號）。二、本件係對被繼承人陳世恒（男、民國16年10月6日生、身分證統一編號：F10****885號、108年8月29日死亡、生前最後住所地：屏東縣內埔鄉○○路000號）之繼承人、債權人及受遺贈人為公示催告。三、被繼承人陳世恒之繼承人（除大陸地區人民應依臺灣地區與大陸地區人民關係條例之規定外）、債權人及受遺贈人 ### 省略內文 ### 僅得就賸餘遺產行使其權利。五、本件裁定正本黏貼於本院公告處。核章欄：書記官科長司法事務官書記官：沈君融股別：親</td>\n",
       "      <td>[]</td>\n",
       "    </tr>\n",
       "  </tbody>\n",
       "</table>\n",
       "</div>"
      ],
      "text/plain": [
       "   news_ID  \\\n",
       "0  1         \n",
       "1  2         \n",
       "2  3         \n",
       "3  4         \n",
       "4  5         \n",
       "\n",
       "                                                                                                                 hyperlink  \\\n",
       "0  https://news.cnyes.com/news/id/4352432                                                                                    \n",
       "1  https://udn.com/news/story/120775/4112519                                                                                 \n",
       "2  https://www.mirrormedia.mg/story/20191008soc011/                                                                          \n",
       "3  https://www.chinatimes.com/realtimenews/20190917000619-260106                                                             \n",
       "4  http://domestic.judicial.gov.tw/abbs/wkw/WHD9HN03.jsp?crtid=PTD&filenm=ECE5DAECAF563DA171E34B03FC5185742FC90F879191D5DF   \n",
       "\n",
       "                                                                                                                                                                                                                                                                                                                                                                                                                                                                    content  \\\n",
       "0  0理財基金量化交易追求絕對報酬有效對抗牛熊市鉅亨網記者鄭心芸2019/07/05 22:35facebook commentFONT SIZEICON PRINT78981DD6-B6FA-435C-B969-0D6ABD01805C0「時間序列與量化交易研討會」邀集專家學者進行量化交易、智能投資等相關議題研討。(圖:鄭心芸攝)相關個股元大期6023近年來投資市場波動越來越明顯 ### 省略內文 ### 都有非常巨大的助益。                                                                                                                                                                                                                                                     \n",
       "1  10月13日晚間發生Uber Eats黃姓外送人員職災死亡案件 ### 省略內文 ### 北市政府今日下午也跨局處召開「外送人員保障專案會議」。圖／台北市勞動局提供                                                                                                                                                                                                                                                                                                                                                                                         \n",
       "2  2019.10.08 01:53【法拍有詭4】飯店遭管委會斷水斷電員工怒吼：生計何去何從？文｜李育材攝影｜李育材全文朗讀00:00 / 00:00君鴻飯店快速遭法拍 ### 省略內文 ### 亦即本次拍賣事件均屬合法。更新時間｜2019.10.10 09:14                                                                                                                                                                                                                                                                                                                                         \n",
       "3  58歲林姓男子昨凌晨與朋友聚餐結束後 ### 省略內文 ### 而地點就距離林家僅30公尺。 (中國時報)                                                                                                                                                                                                                                                                                                                                                                                                                      \n",
       "4  例稿名稱：臺灣屏東地方法院公示催告公告發文日期：中華民國108年9月20日發文字號：屏院進家親108年度司家催字第58號附件：主旨：公告本院108年度司家催字第58號公示催告事件裁定。依據：家事事件法第137條、第138條、第139條準用第130條第3項至第5項、臺灣地區及大陸地區人民關係條例第68條第1項、第3項、退除役官兵死亡無人繼承遺產管理辦法第6條。公告事項：一、本案遺產管理人為國軍退除役官兵輔導委員會屏東榮譽國民之家（住址：屏東縣內埔鄉○○路000號）。二、本件係對被繼承人陳世恒（男、民國16年10月6日生、身分證統一編號：F10****885號、108年8月29日死亡、生前最後住所地：屏東縣內埔鄉○○路000號）之繼承人、債權人及受遺贈人為公示催告。三、被繼承人陳世恒之繼承人（除大陸地區人民應依臺灣地區與大陸地區人民關係條例之規定外）、債權人及受遺贈人 ### 省略內文 ### 僅得就賸餘遺產行使其權利。五、本件裁定正本黏貼於本院公告處。核章欄：書記官科長司法事務官書記官：沈君融股別：親   \n",
       "\n",
       "  name  \n",
       "0  []   \n",
       "1  []   \n",
       "2  []   \n",
       "3  []   \n",
       "4  []   "
      ]
     },
     "execution_count": 2,
     "metadata": {},
     "output_type": "execute_result"
    }
   ],
   "source": [
    "data_path = \"data/tbrain_train_final_0610.csv\"\n",
    "\n",
    "df = pd.read_csv(data_path)\n",
    "df.head()"
   ]
  },
  {
   "cell_type": "code",
   "execution_count": 3,
   "metadata": {},
   "outputs": [],
   "source": [
    "c_list = df[\"content\"].tolist()\n",
    "content = []\n",
    "\n",
    "for c in c_list:\n",
    "    c = c.split(\"### 省略內文 ###\")\n",
    "    tmp = []\n",
    "    prog = re.compile(r\"\\s+\")\n",
    "    for s in c:\n",
    "        tokens = prog.split(\n",
    "            unicodedata.normalize(\"NFKC\", s.strip()))\n",
    "        tmp.append(\"\".join(tokens))\n",
    "    content.append(tmp)"
   ]
  },
  {
   "cell_type": "markdown",
   "metadata": {},
   "source": [
    "## Get crawled files"
   ]
  },
  {
   "cell_type": "code",
   "execution_count": 4,
   "metadata": {},
   "outputs": [],
   "source": [
    "DIR_PATH = os.path.abspath(\n",
    "    f\"./data/news\"\n",
    ")\n",
    "FILES = sorted(os.listdir(DIR_PATH))\n",
    "FILES.sort(key=len, reverse=False)\n",
    "\n",
    "FILES = [f\"{DIR_PATH}/{path}\" for path in FILES]\n",
    "\n",
    "corpus = []\n",
    "\n",
    "for p in FILES:\n",
    "    with open(p, \"r\") as f:\n",
    "        corpus.append(f.readline())"
   ]
  },
  {
   "cell_type": "code",
   "execution_count": 5,
   "metadata": {},
   "outputs": [
    {
     "data": {
      "text/plain": [
       "'Max Document Length: 6974'"
      ]
     },
     "execution_count": 5,
     "metadata": {},
     "output_type": "execute_result"
    }
   ],
   "source": [
    "f\"Max Document Length: {max([len(c) for c in corpus])}\""
   ]
  },
  {
   "cell_type": "code",
   "execution_count": 6,
   "metadata": {},
   "outputs": [],
   "source": [
    "u_name = df[\"name\"].tolist()\n",
    "merged = zip(corpus, u_name)"
   ]
  },
  {
   "cell_type": "markdown",
   "metadata": {},
   "source": [
    "## Merge crawled with labels"
   ]
  },
  {
   "cell_type": "code",
   "execution_count": 7,
   "metadata": {},
   "outputs": [],
   "source": [
    "final_df = pd.DataFrame(\n",
    "    {\n",
    "        'corpus' : corpus,\n",
    "        'labels' : u_name\n",
    "    }\n",
    ")"
   ]
  },
  {
   "cell_type": "code",
   "execution_count": 8,
   "metadata": {},
   "outputs": [
    {
     "data": {
      "text/html": [
       "<div>\n",
       "<style scoped>\n",
       "    .dataframe tbody tr th:only-of-type {\n",
       "        vertical-align: middle;\n",
       "    }\n",
       "\n",
       "    .dataframe tbody tr th {\n",
       "        vertical-align: top;\n",
       "    }\n",
       "\n",
       "    .dataframe thead th {\n",
       "        text-align: right;\n",
       "    }\n",
       "</style>\n",
       "<table border=\"1\" class=\"dataframe\">\n",
       "  <thead>\n",
       "    <tr style=\"text-align: right;\">\n",
       "      <th></th>\n",
       "      <th>corpus</th>\n",
       "      <th>labels</th>\n",
       "    </tr>\n",
       "  </thead>\n",
       "  <tbody>\n",
       "    <tr>\n",
       "      <th>0</th>\n",
       "      <td>近年來投資市場波動越來越明顯,追求低波動、絕對報酬的量化交易備受注目。專家表示,採用量化交易策略投資台股,不管是處於多頭或是空頭市場,績效及波動度均可領跑大盤,甚至比國內投資台股的股票型基金及 ETF 的波動率還低,表現也更為穩定。\\n</td>\n",
       "      <td>[]</td>\n",
       "    </tr>\n",
       "    <tr>\n",
       "      <th>1</th>\n",
       "      <td>10月13日晚間發生Uber Eats黃姓外送人員職災死亡案件,北市府勞動局認定業者未依職業安全衛生法第37條第2項第1款規定於8小時內向勞動檢查機構通報,開罰Uber Eats 30萬元。\\n</td>\n",
       "      <td>[]</td>\n",
       "    </tr>\n",
       "    <tr>\n",
       "      <th>2</th>\n",
       "      <td>君鴻酒店業者控訴高雄地院強制法拍龐大資產,是為了讓財團得利。君鴻業主表示,拍得君鴻的凱德唐公司要求85大樓管委會,在今年8月21日晚上11點後,將酒店斷水斷電,還讓電梯、緊急升降梯停擺,甚至將緊急逃生門鎖死,無視君鴻酒店於點交前仍可合法使用,還有損仍在大樓內辦公,且不點交的福勵、樂活、富勝3家公司員工權益,導致員工無法上班,客戶無法進入,以致公司經營困難、損失巨大。這3家公司緊急反應給高雄地院執行處,沒想到高雄地院竟回覆這些事項非該處所得置問,叫可憐員工情何以堪?\\n</td>\n",
       "      <td>[]</td>\n",
       "    </tr>\n",
       "    <tr>\n",
       "      <th>3</th>\n",
       "      <td>404錯誤 - 中時電子報 中時電子報 關閉 新冠肺炎 即時 展開子選單 即時首頁 政治 生活 社會 旅遊 娛樂 體育 財經 國際 兩岸 科技 軍事 人物 政治 展開子選單 政治首頁 總覽 言論 展開子選單 首頁 總覽 無色覺醒 中時社論 旺報社評 工商社論 短評 名家 星期論壇 觀點 徵文 史話 百川 生活 展開子選單 生活首頁 總覽 Campus 娛樂 展開子選單 娛樂首頁 總覽 新聞 日韓 孝親報報 財經 展開子選單 財經首頁 即時 要聞 證券 櫃買 觀點 全球 金融 科技 產業 特刊 解盤 理財 自貿區 報稅 社會 展開子選單 社會首頁 總覽 刑案 意外 男女 暖聞 萬象 一瞬間 法律 地方 寶島 展開子選單 寶島首頁 總覽 台北基宜花 新北金馬 桃園竹苗 台中彰投 台南雲嘉 高雄屏東澎 話題 展開子選單 話題首頁 總覽 日常 時事 正妹 星奇 搜奇 歷史 好書 雜誌 FB 挖新鮮 有影 展開子選單 有影首頁 總覽 搜奇 生活 娛樂 時事 社會 中天亞洲台 追劇 國際 展開子選單 國際首頁 總覽 時事 趨勢 科技 新知 健康 名流 奇聞 軍事 展開子選單 軍事首頁 總覽 空軍 海軍 陸軍 太空 網路 戰史 戰略 兩岸 展開子選單 兩岸首頁 總覽 時政 台海 廣州 錢潮 環保 話題 深度 名人 時尚 展開子選單 時尚首頁 總覽 時尚 美妝 星光 風格 運勢 消費 啵滋真心話 體育 展開子選單 體育首頁 總覽 時來運轉 亞運 排球 高爾夫 MLB 棒球 NBA 籃球 足球 網球 其他 科技 展開子選單 科技首頁 總覽 智慧手機 私藏密技 電腦應用 網路社群 新知趣聞 消費情報 娛樂遊戲 產業新聞 數位服務 科學前沿 玩食 展開子選單 玩食首頁 總覽 專輯 展開子選單 首頁 總覽 時事 名人 全球 運動 災難 八卦 星聞 局勢 節日 新知 生活 軍事 首頁 404錯誤 抱歉!您所查詢的資料,目前無法找到任何頁面! 可能是因為: 您輸入了錯誤的網址 此頁面已被移除或不存在</td>\n",
       "      <td>[]</td>\n",
       "    </tr>\n",
       "    <tr>\n",
       "      <th>4</th>\n",
       "      <td>家事事件公告 查尋條件: 列印 例稿名稱:臺灣屏東地方法院公示催告公告 發文日期:中華民國108年9月20日 發文字號:屏院進家親108年度司家催字第58號 附件: 主旨:公告本院108年度司家催字第58號公示催告事件裁定。 依據:家事事件法第137 條、第138 條、第139 條準用第130 條 第3 項至第5 項、臺灣地區及大陸地區人民關係條例第68 條第1 項、第3 項、退除役官兵死亡無人繼承遺產管理辦 法第6 條。 公告事項: 一、本案遺產管理人為國軍退除役官兵輔導委員會屏東榮譽國 民之家(住址:屏東縣內埔鄉○○路000 號)。 二、本件係對被繼承人陳世恒(男、民國16年10月6 日生、身 分證統一編號:F10****885號、108 年8 月29日死亡、生 前最後住所地:屏東縣內埔鄉○○路000 號)之繼承人、 債權人及受遺贈人為公示催告。 三、被繼承人陳世恒之繼承人(除大陸地區人民應依臺灣地區 與大陸地區人民關係條例之規定外)、債權人及受遺贈人 ,應自本公示催告揭示於本院公告處、司法院資訊網路之 日起,1 年2 個月內,向遺產管理人承認繼承、報明其債 權及為是否願受遺贈之聲明。 四、繼承人不於上述期間內承認繼承,於清償債權並交付遺贈 物後,如有剩餘,歸屬國庫。債權人、受遺贈人未於上述 期間內報明、聲明者,僅得就賸餘遺產行使其權利。 五、本件裁定正本黏貼於本院公告處。 核章欄: 書記官 科長 司法事務官 書記官:沈君融 股別:親 司法院 資訊管理處 製作。 對於本系統功能有任何建議, 歡迎來信 。 如欲查詢上開公告之裁定,請逕至本院「裁判書查詢」網頁查詢。 對公告內容有疑義者,請逕向承辦法院書記官洽詢,或電洽司法院。</td>\n",
       "      <td>[]</td>\n",
       "    </tr>\n",
       "  </tbody>\n",
       "</table>\n",
       "</div>"
      ],
      "text/plain": [
       "                                                                                                                                                                                                                                                                                                                                                                                                                                                                                                                                                                                                                                                                                                                                                                                                                                                                               corpus  \\\n",
       "0  近年來投資市場波動越來越明顯,追求低波動、絕對報酬的量化交易備受注目。專家表示,採用量化交易策略投資台股,不管是處於多頭或是空頭市場,績效及波動度均可領跑大盤,甚至比國內投資台股的股票型基金及 ETF 的波動率還低,表現也更為穩定。\\n                                                                                                                                                                                                                                                                                                                                                                                                                                                                                                                                                                                                                                                                                                                                                               \n",
       "1  10月13日晚間發生Uber Eats黃姓外送人員職災死亡案件,北市府勞動局認定業者未依職業安全衛生法第37條第2項第1款規定於8小時內向勞動檢查機構通報,開罰Uber Eats 30萬元。\\n                                                                                                                                                                                                                                                                                                                                                                                                                                                                                                                                                                                                                                                                                                                                                                                    \n",
       "2  君鴻酒店業者控訴高雄地院強制法拍龐大資產,是為了讓財團得利。君鴻業主表示,拍得君鴻的凱德唐公司要求85大樓管委會,在今年8月21日晚上11點後,將酒店斷水斷電,還讓電梯、緊急升降梯停擺,甚至將緊急逃生門鎖死,無視君鴻酒店於點交前仍可合法使用,還有損仍在大樓內辦公,且不點交的福勵、樂活、富勝3家公司員工權益,導致員工無法上班,客戶無法進入,以致公司經營困難、損失巨大。這3家公司緊急反應給高雄地院執行處,沒想到高雄地院竟回覆這些事項非該處所得置問,叫可憐員工情何以堪?\\n                                                                                                                                                                                                                                                                                                                                                                                                                                                                                                                                                                                                                                         \n",
       "3  404錯誤 - 中時電子報 中時電子報 關閉 新冠肺炎 即時 展開子選單 即時首頁 政治 生活 社會 旅遊 娛樂 體育 財經 國際 兩岸 科技 軍事 人物 政治 展開子選單 政治首頁 總覽 言論 展開子選單 首頁 總覽 無色覺醒 中時社論 旺報社評 工商社論 短評 名家 星期論壇 觀點 徵文 史話 百川 生活 展開子選單 生活首頁 總覽 Campus 娛樂 展開子選單 娛樂首頁 總覽 新聞 日韓 孝親報報 財經 展開子選單 財經首頁 即時 要聞 證券 櫃買 觀點 全球 金融 科技 產業 特刊 解盤 理財 自貿區 報稅 社會 展開子選單 社會首頁 總覽 刑案 意外 男女 暖聞 萬象 一瞬間 法律 地方 寶島 展開子選單 寶島首頁 總覽 台北基宜花 新北金馬 桃園竹苗 台中彰投 台南雲嘉 高雄屏東澎 話題 展開子選單 話題首頁 總覽 日常 時事 正妹 星奇 搜奇 歷史 好書 雜誌 FB 挖新鮮 有影 展開子選單 有影首頁 總覽 搜奇 生活 娛樂 時事 社會 中天亞洲台 追劇 國際 展開子選單 國際首頁 總覽 時事 趨勢 科技 新知 健康 名流 奇聞 軍事 展開子選單 軍事首頁 總覽 空軍 海軍 陸軍 太空 網路 戰史 戰略 兩岸 展開子選單 兩岸首頁 總覽 時政 台海 廣州 錢潮 環保 話題 深度 名人 時尚 展開子選單 時尚首頁 總覽 時尚 美妝 星光 風格 運勢 消費 啵滋真心話 體育 展開子選單 體育首頁 總覽 時來運轉 亞運 排球 高爾夫 MLB 棒球 NBA 籃球 足球 網球 其他 科技 展開子選單 科技首頁 總覽 智慧手機 私藏密技 電腦應用 網路社群 新知趣聞 消費情報 娛樂遊戲 產業新聞 數位服務 科學前沿 玩食 展開子選單 玩食首頁 總覽 專輯 展開子選單 首頁 總覽 時事 名人 全球 運動 災難 八卦 星聞 局勢 節日 新知 生活 軍事 首頁 404錯誤 抱歉!您所查詢的資料,目前無法找到任何頁面! 可能是因為: 您輸入了錯誤的網址 此頁面已被移除或不存在   \n",
       "4  家事事件公告 查尋條件: 列印 例稿名稱:臺灣屏東地方法院公示催告公告 發文日期:中華民國108年9月20日 發文字號:屏院進家親108年度司家催字第58號 附件: 主旨:公告本院108年度司家催字第58號公示催告事件裁定。 依據:家事事件法第137 條、第138 條、第139 條準用第130 條 第3 項至第5 項、臺灣地區及大陸地區人民關係條例第68 條第1 項、第3 項、退除役官兵死亡無人繼承遺產管理辦 法第6 條。 公告事項: 一、本案遺產管理人為國軍退除役官兵輔導委員會屏東榮譽國 民之家(住址:屏東縣內埔鄉○○路000 號)。 二、本件係對被繼承人陳世恒(男、民國16年10月6 日生、身 分證統一編號:F10****885號、108 年8 月29日死亡、生 前最後住所地:屏東縣內埔鄉○○路000 號)之繼承人、 債權人及受遺贈人為公示催告。 三、被繼承人陳世恒之繼承人(除大陸地區人民應依臺灣地區 與大陸地區人民關係條例之規定外)、債權人及受遺贈人 ,應自本公示催告揭示於本院公告處、司法院資訊網路之 日起,1 年2 個月內,向遺產管理人承認繼承、報明其債 權及為是否願受遺贈之聲明。 四、繼承人不於上述期間內承認繼承,於清償債權並交付遺贈 物後,如有剩餘,歸屬國庫。債權人、受遺贈人未於上述 期間內報明、聲明者,僅得就賸餘遺產行使其權利。 五、本件裁定正本黏貼於本院公告處。 核章欄: 書記官 科長 司法事務官 書記官:沈君融 股別:親 司法院 資訊管理處 製作。 對於本系統功能有任何建議, 歡迎來信 。 如欲查詢上開公告之裁定,請逕至本院「裁判書查詢」網頁查詢。 對公告內容有疑義者,請逕向承辦法院書記官洽詢,或電洽司法院。                                                                                                                                \n",
       "\n",
       "  labels  \n",
       "0  []     \n",
       "1  []     \n",
       "2  []     \n",
       "3  []     \n",
       "4  []     "
      ]
     },
     "execution_count": 8,
     "metadata": {},
     "output_type": "execute_result"
    }
   ],
   "source": [
    "final_df.head()"
   ]
  },
  {
   "cell_type": "markdown",
   "metadata": {},
   "source": [
    "## Get all names"
   ]
  },
  {
   "cell_type": "code",
   "execution_count": 9,
   "metadata": {
    "scrolled": true
   },
   "outputs": [
    {
     "name": "stdout",
     "output_type": "stream",
     "text": [
      "Max Number of Names: 15\n",
      "Number of documents without label: 4651\n"
     ]
    }
   ],
   "source": [
    "name_list = df[\"name\"].tolist()\n",
    "name_list = [ast.literal_eval(name) for name in name_list]\n",
    "print(f\"Max Number of Names: {max([len(ns) for ns in name_list])}\")\n",
    "\n",
    "x = {idx: ns for idx, ns in enumerate(name_list) if len(ns) == 0}\n",
    "print(f\"Number of documents without label: {len(x)}\")"
   ]
  },
  {
   "cell_type": "code",
   "execution_count": 10,
   "metadata": {},
   "outputs": [
    {
     "name": "stdout",
     "output_type": "stream",
     "text": [
      "The number of unique names: 830\n",
      "['郭盈志', '周榮華', '張道銘', '詹信夫', '王柏森', '周麗真', '黃文哲', '簡以珍', '蔡豐益', '林清井', '詹雅琳', '夏子茵', '洪正義', '邱希庚', '張治忠', '沈大祥', '姜維池', '葉嘉雄', '林育佑', 'Denis Katana', '簡志霖', '黃啟禎', '陳學敏', '陳威愷', '黃哲修', '郭明枝', '祁明昕', '陳効亮', '黃俊策', '徐少東', '葉文豪', '林坤星', '黃奕霖', '崔明禮', '羅雅美', '施允澤', '施金樹', '馬乃林', '黃建強', '黃建彰', '謝春發', '林奕如', '陸佩啟', '詹博翔', '何煖軒', '林文章', '呂紹甫', '陳致中', '王韻茹', '陳建閣', '林睿耆', '徐世立', '黃柏維', '鄭少熙', '楊善淵', '吳松麟', '黃淑頻', '游世一', '陳寶生', '陳文政', '蔡景德', '周雲楠', '蔡思庭', '黃博鴻', '許士耘', '蘇清俊', '林義傑', '王洪烈', '林國欽', '倪菲爾', '黃文焱', '彭文潞', '張嘉玲', '楊永昌', '陳水扁', '曾杭皆', '王羿雄', '李哲銘', '吳秋華', '林偉琳', '洪博文', '趙瑩潔', '王威仁', '王姝茵', '魏君婷', '陳世坤', '鄭又仁', '陳震歐', '鄧福鈞', '陳榮祥', '謝淑美', '高嘉斌', '張簡復中', '蔡世誠', '黃國清', '江東原', '蘇怡寧', '李宛霞', '李明華', '紀雅玲', '黃春發', '何宗英', '孫岳澤', '徐豪雄', '趙宏翰', '王隆昌', '葉麗貞', '雷俊玲', '李瑞廷', '張語庭', '陳傳志', '陳孝仁', '曾國財', '高盟傑', '王春甡', '林健標', '徐金龍', '楊富巖', '繆竹怡', '林振宏', '林耿宏', '黃子愛', '林嘉凌', '曾煥彰', '陳武騰', '陳文宏', 'Alan Lim', '陳彥廷', '楊文海', '黃薪哲', '王鴻財', '陳柏維', '陳西元', '李政勳', '吳宇倫', '朱國榮', '周宗賢', '田書旗', '李深淵', '李維峰', '林詩芳', '楊強蓉', '彭紹軒', '賈翔傑', '蔣寶夏', '王毓雅', '楊明達', '郭展緁', '陳慶男', '劉銘卿', '蕭宇翔', '黃傳宗', '李世昌', '林昱伯', '周長華', '莊淑芬', '趙義兒', '謝世謙', '陳清江', '張安樂', '許德道', '李君偉', '施建新', '曾盛麟', '張家維', '何培才', '章啟明', '林西田', '林家興', '章啟光', '吳茂達', '許儀彬', '徐文龍', '邱秀芬', '蕭錦戎', '李訓成', '陳逢璿', '白梓佑', '呂翠峰', '王澤生', '何育仁', '張慶宗', '翁尉翔', '吳淑珍', '王派宏', '王益洲', '張月蕉', '林全明', '陳風廷', '林尹寧', '鄭博文', '黃正一', '林良琪', '常梅峰', '施閔毓', '殷倜凡', '趙崇伶', '王宇正', '張馥堂', '鄭旭宏', '黃詩涵', '游甯鈞', '梁俊源', '賴月菊', '陳枻佐', '祁興國', '陳進村', '邱垂貞', '陳俊銘', '林聖凱', '李岳怡', '孫玦新', '林華偉', '儲著光', '莊隆慶', '陳秉頡', '楊治渝', '陳偉', '高新', '凌鳳琴', '呂家緯', '廖福本', '葉志皇', '康明璋', '藍力凱', '張施麗滿', '陳志謀', '沈駿州', '崔培明', '魯德海', '劉尊彰', '黃文鴻', '李建邦', '楊明軒', '何吳惠珠', '許志堅', '蕭炯桂', '林霙璋', '吳運豐', '周俊誼', '范峻誥', '黃昱凱', '鄭聖儒', '張琨典', '于曉燕', '戴家秀', '李泗源', '鄭淑珠', '張志偉', '楊雲傑', '鄭楠興', '陳宜鑫', '陳明智', '孫幼英', '黃彥儒', '古少禾', '王博民', '林采穎', '林維屹', '邱浩成', '羅栩亮', '陳麗珍', '張淑晶', '馮一塵', '石宇琦', '顏雪藝', '林啟賢', '梁柱', '楊昇穎', '鄒春香', '藍秀琪', '周秉榮', '鄧文聰', '劉進福', '李欣潔', '劉人鳳', '李維凱', '楊正平', '蕭良政', '賴俊吉', '余世彰', '秦啟松', '林愈得', '葉正良', '林右正', '翁茂鍾', '陳瑞禮', '李奇申', '陳耀東', '林大福', '陳東豐', '施吳素貞', '鄒德道', '陳亮吟', '房立勳', '陳啟清', '周漢祥', '劉鐵球', '廖鴻輝', '王冠傑', '許長裕', '陳近武', '翁美惠', '鍾素娥', '洪性榮', '莊錫根', '江盈均', '張哲維', '張鳳桂', '金大訓', '蔡鎧陽', '林繼蘇', '朱明俊', '李黃錦燕', '許昭英', '黃雁宸', '陳子俊', '廖泰宇', '羅文俊', '林玉雀', '林秉勳', '劉慶珠', '蘇嘉美', '許文豪', '曾美菁', '阮氏秋雲', '溫方瓊', '張妍綸', '簡麗珠', '葉乃銘', '陳盧昭霞', '李孟謙', '黃泳學', '鄭安秝', '鄭銘富', '裴振福', '張金素', '郭再旺', '宋芷妍', '林錫山', '游麗珠', '洪定緯', '楊嘉仁', '葉美麗', '林正源', '蔡維峻', '王炳漢', '周世洋', '林孟良', '葉添洽', '蔡文旭', '孫凱倫', '吳麗玲', '陳穎彥', '黃世陽', '黃振龍', '朱小蓉', '劉穎谷', '黃載文', '胡珍綾', '俄鄧．殷艾', '陳威宇', '林夢珍', '葉信宏', '安鶴軒', '陳韋霖', '張承平', '馬怡如', '王春容', '溫良明', '張慶龍', '黎清美', '陳富榮', '羅秋英', '黃子窈', '張國安', '徐仲榮', '吳佳駿', '張陳淑媜', '孔繁仁', '許家榮', '葉玲', '張恆嘉', '王桂霜', '鄭程維', '葉冠廷', '葉鯤璟', '謝銘哲', '黃鈺蘋', '陳銘璋', '蘇陳端', '張瑋', '黃川禎', '陳澤信', '齊德清', '潘信興', '林茂榮', '郭雅雯', '賴建誠', '戴啟川', '劉吉雄', '葉仲琦', '方俐婷', '林宗耀', '林致成', '翁德銘', '林志聰', '劉威甫', '彭達明', '鄭銘坤', '黃馨儀', '林進富', '張景祥', '陳茂嘉', '涂皓鈞', '胡白玫', '張廣元', '郭永鴻', '洪勝明', '張智冠', '歐兆賢', '丁奕烜', '徐正倫', '張智凱', '林欣月', '陳俊宏', '陳威廷', '黃天一', '鄭俊宏', 'Sreenack', '陳榮元', '潘富民', '李玄在', '柯賜海', '徐詩彥', '林明忠', '戴盛世', '穆曉光', '劉明冠', '吳鈞軒', '徐洪貴', '林孟函', '周長輝', '許金龍', '吳誌麒', '黃呈熹', '林佳葳', '柯路加', '黃志豪', '蔡尚苑', '邱世忠', '林輝宏', '余依珊', '金知勳', '呂建安', '許正雄', '道克明', '張文發', '宋國禎', '郭茂良', '王素筠', '王昆榮', '楊惟欽', '金濟民', '葉麗珍', '池泳霖', '周麗惠', '張力方', '薛義雄', '林倉平', '陳長明', '陳國楨', '李金龍', '賴文德', '翁定澤', '江承宏', '趙玉柱', '潘秉忠', '顏志峰', '張平沼', '陳建湘', '陳星佑', '陳宣銘', '吳孝昌', '黃照岡', '羅瑞榮', '姚慶佳', '廖麗櫻', '李相澈', '孫林莫', '施明德', '林和龍', '黃仁宏', '陳韋呈', '許志遠', '曾彥泰', '林桂馨', '李威辰', '陳斯婷', '林若蕎', '黃睿靚', '林國智', '葉戴燦', '楊仕豪', '洪丞俊', '柯志龍', '周瑞慶', '張恒嘉', '陸敬瀛', '許鴻呈', '呂宗南', '洪進福', '胡原龍', '陳發貴', '張貞松', '謝明陽', '章民強', '陳逸夫', '鄒官羽', '陳文南', '張子桀', '楊政錦', '林瑞足', '林茂樹', '孫經武', '楊自立', '龔俊仁', '賴嚮景', '林進隆', '吳洛瑜', '林劼', '於勇明', '陳素娟', '楊宇晨', '戴吟曲', '余逸民', '何智輝', '黃林麗玉', '鍾增林', '董子綺', '謝明瑋', '蘇德建', '陳鏡如', '彭振源', '傅春生', '李俊榮', '焦名薇', '邱文聰', '許道德', '李克毅', '林勇任', '蘇芸樂', '曾昭榮', '周陳文彬', '林豪', '李智剛', '林冠百', '于堯', '賴金鑫', '林政賢', '陳偉志', '邱平舜', '吳志麒', '張宜豐', '連定安', '郭雨隴', '劉奕發', '吳松薰', '葉清偉', '陳福祥', '蔡賜爵', '郭明賓', '唐惠美', '彭俞諺', '邱嘉進', '童仲彥', '楊文虎', '劉炳輝', '郭政權', '程國忠', '陳文君', '李春生', '葉文祥', '吳承霖', '張志勇', '蔡開宇', '黃梅雪', '林光華', '詹昭書', '吳哲瑋', '高振殷', '劉欣燕', '孔朝', '詹國霆', '林煒智', '蔡宗育', '詹世雄', '林黃財', '賴麗團', '吳金虎', '盧文凱', '洪琮鎰', '鄭玉珠', '羅吉強', '何歡', '簡良鑑', '林銘宏', '林敏志', '李士綸', '黃郁蓁', '鮑廣廷', '朱松偉', '張朝亮', '陳科名', '伍政山', '黃明祥', '姚柏丞', '吳東明', '李俊琳', '謝嘉入', '陳忠貴', '吳思遠', '葉永和', '陳淑珠', '吳定軒', '蔡文娟', '鄒雪娥', '歐炳辰', '林煜傑', '葉大慧', '謝宥宏', '陳建銘', '賴素如', '鄭明淵', '吳綉琴', '王憲璋', '陳淳伍', '郭文仁', '周正華', '石怡池', '郭勝煌', '張建生', '游朝旭', '沈珉', '陳聰明', '陳志遇', '張建華', '王協模', '邱彰信', '吳通龍', '謝巧莉', '李育英', '黃顯雄', '吳清吉', '王延順', '王際平', '馮竣嗣', '沈陳婕楹', '楚瑞芳', '吳建宏', '趙鈞震', '林育賢', '李新一', '劉明楊', '李全教', '鄭光育', '楊士弘', '朱傑麟', '陳享恩', '汪惠南', '連千毅', '何文安', '王令麟', '邱俊銘', '林陀桂英', '林其瑞', '林宏柏', '蔡金澄', '郭烈成', '林玉華', '張俊宜', '劉馨蔚', '黃博健', '秦儷舫', '張玉鳳', '施凱倫', '姜祖明', '蘇雅玲', '黃弘毅', '李榮華', '陳建飛', '吳京哲', '趙信清', '李承孺', '洪玉鳳', '于求潭', '王安石', '胡曉菁', '陳敏薰', '蔣楚明', '卓國華', '顏政德', '李威儀', '張永泉', '王禹婕', '許祈文', '余豪', '曾敬恆', '黃立雄', '陳玉瑛', '徐良吉', '林蔚山', '陳美蘭', '林亦如', '秦朝添', '李庸三', '林家豪', '林宏彬', '張永昌', '王懷恭', '吳銀嵐', '畢鈞輝', '吳美惠', '李保承', '賴進坤', '趙建銘', '陳功源', '黃郁文', '陳清裕', '祖興華', '田佳宜', '廖聰昇', '黃意中', '陳澄玄', '江國貴', '于曉艷', '陳勇志', '李佰全', '吳明正', '林偉強', '蒲念慈', '賴信機', '阮文全', '沈長聲', '王芃迪', '蔡登裕', '郭訓德', '楊肇忠', '侯君鍵', '邱佳亮', '吳國昌', '張桂銘', '黃千芳', '高寶勝', '胡金忞', '吳俊宗', '吳坤錦', '蔡裕中', '吳勝夫', '陳正達', '池燿廷', '陳柏霖', '詹舜淇', '林寶菊', '黃明堂', '陳仕修', '王志中', '鄭妮娜', '黃清政', '裘振儀', '牟孝儀', '徐兆峰', '賴粵興', '鄧超鴻', '王振賢', '林志建', '王音之', '鄭達騰', '徐沛清', '陳國帥', '常偉政', 'Mynus Lee', '陳志明', '邱水成', '陳忠廷', '尤嵩斌', '黃丹怡', '王紀棠', '羅為德', '陳志銘', '楊仕銘', '林麗令', '李大彰', '陳中光', '趙藤雄', '江志堅', '何壽川', '林文楨', '李宗原', '蔡怡辰', '洪益元', '許愷娗', '章世坦', '吳勝凱', '林文良', '邱春茂', '陳揚宗', '徐炳清', '李俊諺', '李茂程', '杜嘉珊', '郭義禮', '張欽堯', '陳瑞芳', '趙崇智', '蔡志祥', '劉宸誌', '蔡文祺', '陳粹鑾', '吳正順', '林秀蓉', '許志強', '翁朝正', '黃聲儀', '黃裕源', '吳宗憲', '劉永祥', '陳玟叡', '黃淑霞', '黃振榮']\n"
     ]
    }
   ],
   "source": [
    "unique_names = list({n for name in name_list for n in name})\n",
    "print(f\"The number of unique names: {len(unique_names)}\")\n",
    "print(unique_names)"
   ]
  },
  {
   "cell_type": "markdown",
   "metadata": {},
   "source": [
    "## NER Tagger"
   ]
  },
  {
   "cell_type": "code",
   "execution_count": null,
   "metadata": {},
   "outputs": [
    {
     "name": "stdout",
     "output_type": "stream",
     "text": [
      "\n",
      "WARNING: The TensorFlow contrib module will not be included in TensorFlow 2.0.\n",
      "For more information, please see:\n",
      "  * https://github.com/tensorflow/community/blob/master/rfcs/20180907-contrib-sunset.md\n",
      "  * https://github.com/tensorflow/addons\n",
      "If you depend on functionality not listed there, please file an issue.\n",
      "\n"
     ]
    }
   ],
   "source": [
    "ws = WS(\"./ckip\")\n",
    "ner = NER(\"./ckip\")\n",
    "pos = POS(\"./ckip\")\n",
    "word_sentence_list = ws(corpus)\n",
    "pos_sentence_list = pos(corpus)\n",
    "\n",
    "# entity_sentence_list = ner(word_sentence_list, pos_sentence_list)"
   ]
  },
  {
   "cell_type": "code",
   "execution_count": null,
   "metadata": {},
   "outputs": [],
   "source": [
    "print(len(word_sentence_list))\n",
    "print(len(pos_sentence_list))\n"
   ]
  },
  {
   "cell_type": "code",
   "execution_count": null,
   "metadata": {},
   "outputs": [],
   "source": []
  }
 ],
 "metadata": {
  "kernelspec": {
   "display_name": "Python 3",
   "language": "python",
   "name": "python3"
  },
  "language_info": {
   "codemirror_mode": {
    "name": "ipython",
    "version": 3
   },
   "file_extension": ".py",
   "mimetype": "text/x-python",
   "name": "python",
   "nbconvert_exporter": "python",
   "pygments_lexer": "ipython3",
   "version": "3.6.9"
  }
 },
 "nbformat": 4,
 "nbformat_minor": 4
}
